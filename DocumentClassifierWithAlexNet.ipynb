{
  "nbformat": 4,
  "nbformat_minor": 0,
  "metadata": {
    "colab": {
      "name": "Load_AlexNet_Weights.ipynb",
      "provenance": [],
      "collapsed_sections": [],
      "toc_visible": true,
      "mount_file_id": "14-r0MvbMky3lViHFpnFADc4nDbSAfhSp",
      "authorship_tag": "ABX9TyPvQ7cfyMYVP9rg2THbC1HO",
      "include_colab_link": true
    },
    "kernelspec": {
      "name": "python3",
      "display_name": "Python 3"
    },
    "accelerator": "GPU"
  },
  "cells": [
    {
      "cell_type": "markdown",
      "metadata": {
        "id": "view-in-github",
        "colab_type": "text"
      },
      "source": [
        "<a href=\"https://colab.research.google.com/github/MatMig42/DocumentClassifierWithAlexNet/blob/main/DocumentClassifierWithAlexNet.ipynb\" target=\"_parent\"><img src=\"https://colab.research.google.com/assets/colab-badge.svg\" alt=\"Open In Colab\"/></a>"
      ]
    },
    {
      "cell_type": "markdown",
      "metadata": {
        "id": "iyA_em_Lhhoh"
      },
      "source": [
        "# Vorbedingungen"
      ]
    },
    {
      "cell_type": "markdown",
      "metadata": {
        "id": "uxMFdHTHKR_q"
      },
      "source": [
        "Der Tobacco-3482 Datensatz liegt in einem zip-Archiv auf einem Ordner auf einem Google Drive.<br>\r\n",
        "Im Laufe der Codeausführung wird dieser zip-Ordner auf die Instanz dieses Notebooks kopiert.<br>\r\n",
        "Der Datensatz kann beispielsweise von https://www.kaggle.com/patrickaudriaz/tobacco3482jpg heruntergeladen werden.<br>\r\n",
        "Es wird angenommen, dass die Daten in folgender Struktur in dem ZIP-Archiv sortiert sind:<br>\r\n",
        "![Tobacco_Struktur.png](data:image/png;base64,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)\r\n",
        "<br>\r\n",
        "Bei einem ersten Durchlauf sollte das ganze Notebook einmal durchlaufen werden, um sicherzustellen, dass alle Variablen und Packages richtig initialisiert sind."
      ]
    },
    {
      "cell_type": "markdown",
      "metadata": {
        "id": "6OyIu3LVhoSH"
      },
      "source": [
        "# Tobacco-3482 Datensatz vorbereiten"
      ]
    },
    {
      "cell_type": "markdown",
      "metadata": {
        "id": "QwMxqRWh1j_A"
      },
      "source": [
        "Erste Python-Pakete laden und Zugang zu Google Drive herstellen"
      ]
    },
    {
      "cell_type": "code",
      "metadata": {
        "colab": {
          "base_uri": "https://localhost:8080/"
        },
        "id": "VwQTybM9uCrU",
        "outputId": "45e0e932-73a1-42b6-bba3-e251b2084653"
      },
      "source": [
        "import numpy as np\r\n",
        "import pandas as pd\r\n",
        "import os\r\n",
        "from datetime import datetime\r\n",
        "from google.colab import drive\r\n",
        "drive.mount('/content/drive/', force_remount=True)"
      ],
      "execution_count": 1,
      "outputs": [
        {
          "output_type": "stream",
          "text": [
            "Mounted at /content/drive/\n"
          ],
          "name": "stdout"
        }
      ]
    },
    {
      "cell_type": "markdown",
      "metadata": {
        "id": "bIViBQYF1xeZ"
      },
      "source": [
        "Den Tobacco-3482 Datensatz vom Google Drive auf die aktuelle Colabs Instanz kopieren und entpacken.<br>\r\n",
        "Dies steigert die Performanz beim Laden der Bilder und damit die Geschwindigkeit beim Trainieren des Netzes.<br>\r\n",
        "Der initiale Kopiervorgang kann wenige Minuten in Anspruch nehmen.<br>\r\n",
        "<b>Die Variable *path_to_dataset* muss vermutlich angepasst werden.</b><br>\r\n",
        "Diese Variable zeigt auf den Pfad zu dem Tobacco-3482 Datensatz"
      ]
    },
    {
      "cell_type": "code",
      "metadata": {
        "colab": {
          "base_uri": "https://localhost:8080/"
        },
        "id": "Erz2Dg_E1ODJ",
        "outputId": "d1243aea-ef5d-4b51-f28d-e66bee95d47d"
      },
      "source": [
        "# Gegebenfalls anpassen\r\n",
        "path_to_dataset = \\\r\n",
        "  '/content/drive/MyDrive/ML_Datasets/Tobacco3482-jpg.zip'\r\n",
        "\r\n",
        "# Zip-Archiv nur kopieren, wenn es nicht bereits\r\n",
        "# entpackt vorliegt.\r\n",
        "# Sollte der Ordner 'Tobacco3482-jpg' korrumpiert sein,\r\n",
        "# muss er gelöscht werden und dieser Code erneut\r\n",
        "# ausgeführt werden\r\n",
        "if not 'Tobacco3482-jpg' in os.listdir():\r\n",
        "  print('Kopiere Daten. Die kann einige Minuten dauern...')\r\n",
        "  # Ins Homeverzeichnis kopieren\r\n",
        "  !cp '{path_to_dataset}' .\r\n",
        "  print('Entpacke zip-archiv...')\r\n",
        "  !unzip -q Tobacco3482-jpg.zip\r\n",
        "  !rm Tobacco3482-jpg.zip\r\n",
        "  print('Erledigt!')\r\n",
        "else:\r\n",
        "  print('Bilder werden nicht kopiert, da sie schon vorhanden sind')"
      ],
      "execution_count": 2,
      "outputs": [
        {
          "output_type": "stream",
          "text": [
            "Kopiere Daten. Die kann einige Minuten dauern...\n",
            "Entpacke zip-archiv...\n",
            "Erledigt!\n"
          ],
          "name": "stdout"
        }
      ]
    },
    {
      "cell_type": "markdown",
      "metadata": {
        "id": "LEhsol9N4K0y"
      },
      "source": [
        "Hier wird der Inhalt des Ordners mit den Trainingsdaten in einen Pandas Dataframe geladen, um später über diesen Dataframe auf die Biler zuzugreifen.<br>\r\n",
        "Der Dataframe beinhaltet nach Ausführung dieses Abschnitts den Pfad zu allen 3482 Bilder mit dem jeweiligen Label.<br>\r\n",
        "**Die Variable *tobacco_img_folder* muss angepasst werden, wenn das zip-Archiv nicht von Kaggle, sondern einer anderen Quelle heruntergeladen wurde.**<br>\r\n",
        "Zur Erinnerung: Im Ordner *tobacco_img_folder* sollten 10 Unterordner liegen, die die Namen der 10 Klassen tragen und die Bilder der jeweiligen Klasse beinhalten.  "
      ]
    },
    {
      "cell_type": "code",
      "metadata": {
        "colab": {
          "base_uri": "https://localhost:8080/"
        },
        "id": "89gwSL30OOhC",
        "outputId": "db38ed1f-e508-4362-f478-ab8517062365"
      },
      "source": [
        "# In den Ordner mit den Bildern wechseln\r\n",
        "# Diese Variable ggf. anpassen\r\n",
        "tobacco_img_folder = '/content/Tobacco3482-jpg/'\r\n",
        "os.chdir(tobacco_img_folder)\r\n",
        "\r\n",
        "# Die Ordnernamen entsprechen den Labels\r\n",
        "labels = os.listdir()\r\n",
        "print(len(labels),'gefunde Labels:', labels)\r\n",
        "\r\n",
        "num_found_images = 0\r\n",
        "dataset_list = []\r\n",
        "\r\n",
        "# Durch alle Ordner gehen und auflisten, wie die Bilder heißen\r\n",
        "for root, dir, files in os.walk(\".\"):\r\n",
        "  # Leere Ordner überspringen\r\n",
        "  if len(files) != 0:\r\n",
        "    for file in files:\r\n",
        "      # Nur Bilder beachten, den Rest (e.g. Thumbs.db) überspringen\r\n",
        "      if file.split('.')[-1] != 'jpg':\r\n",
        "        continue\r\n",
        "      num_found_images += 1  \r\n",
        "      label = root.split('/')[-1]\r\n",
        "      path_to_img = tobacco_img_folder + '/' + label + '/' + file\r\n",
        "      dataset_list.append([path_to_img, label])\r\n",
        "\r\n",
        "# Sanity checks\r\n",
        "if len(labels) != 10:\r\n",
        "  print ('Fehler! Es wurden ' + str(len(labels)) + \r\n",
        "         ' Labels gefunden (Erwarte 10)')\r\n",
        "if num_found_images == 3482:\r\n",
        "  print('Alle Bilder gefunden!')\r\n",
        "else:\r\n",
        "  print('Fehler! Es wurden nicht alle Bilder gefunden!')\r\n",
        "  print('Anzahl gefundene Bilder:', num_found_images)\r\n",
        "\r\n",
        "# Die Bilderliste in einen pd.DataFrame umwandeln\r\n",
        "dataset_df = pd.DataFrame(dataset_list, columns=['Path', 'Label'])\r\n",
        "# Die Daten ein erstes Mal durchmischen\r\n",
        "dataset_df = dataset_df.sample(frac=1).reset_index(drop=True)"
      ],
      "execution_count": 3,
      "outputs": [
        {
          "output_type": "stream",
          "text": [
            "10 gefunde Labels: ['Email', 'Form', 'News', 'Note', 'Memo', 'Report', 'Resume', 'Scientific', 'ADVE', 'Letter']\n",
            "Alle Bilder gefunden!\n"
          ],
          "name": "stdout"
        }
      ]
    },
    {
      "cell_type": "markdown",
      "metadata": {
        "id": "SqghvKqaJPC9"
      },
      "source": [
        "Trainingsdaten partitionieren und in Trainings-, Validierungs- und Testdatensätze aufsplitten:<br>\r\n",
        "In der Veröffentlichung von Afzal et al. wurden 100 Partitionen mit unterschiedlicher Größe der drei Datensätze erstellt.\r\n",
        "<br>Diese 100 Partitionen werden durch eine Liste, die 3x100 Pandas Dataframes enthält, repräsentiert.<br>\r\n",
        "Das Aufteilen in Trainingsdaten und Validierungsdaten in einem Verhältnis von 80:20 wird hier händisch vorgenommen.\r\n",
        "<br>Eine mögliche andere Implementierung, wäre es diese Aufteilung dem Keras DataGenerator zu überlassen.<br>\r\n",
        "**Achtung:** Die kleineren Trainingsdatensätze sind immer Untermengen von größeren Trainingsdatensätzen, da der *dataset_df* beim Aufteilen in die drei Datensätze nicht jedesmal neu durchmischt wird."
      ]
    },
    {
      "cell_type": "code",
      "metadata": {
        "id": "UIbZ_mAgMLZT"
      },
      "source": [
        "# Zuerst einen Dataframe mit allen Bildern erstellen, damit der entsprechende\r\n",
        "# Ordner nur einmal durchsucht werden muss.\r\n",
        "partitions = []\r\n",
        "partitions_size_dict = {}\r\n",
        "\r\n",
        "# Die Anzahl der Partition ist hier auf 30 gestellt, da\r\n",
        "# 100 Paritionen zu einem OOM Fehler führen. Siehe Bericht.\r\n",
        "for i in range(30):\r\n",
        "  # Bestimme zufällige Größe des Traindatensatzes\r\n",
        "  # Mindestens 20, maximal 100 Bilder\r\n",
        "  # Aufteilung in Validierungs- und Trainingsdatensatz erfolgt später\r\n",
        "  num_train_img_per_class = int(np.rint(np.random.random_sample() * 80)) + 20\r\n",
        "  # Initialisiere leere Dataframes\r\n",
        "  train_df = pd.DataFrame(columns=['Path', 'Label'])\r\n",
        "  val_df = pd.DataFrame(columns=['Path', 'Label'])\r\n",
        "  test_df = pd.DataFrame(columns=['Path', 'Label'])\r\n",
        "\r\n",
        "  # Füge die Bilder für jedes Label den entsprechenden\r\n",
        "  # Dataframes hinzu\r\n",
        "  for label in labels:\r\n",
        "    images_for_label_df = dataset_df[dataset_df['Label']==label]\r\n",
        "    num_img_for_label = len(images_for_label_df.index)\r\n",
        "    num_test_img_for_label = num_img_for_label - num_train_img_per_class\r\n",
        "\r\n",
        "    # 20% des Trainingdatensatzes werden zur Validierung verwendet\r\n",
        "    num_val_images = int(np.rint(num_train_img_per_class * 0.2))\r\n",
        "    # Die Gesamheit der Bilder für jedes Label auf die\r\n",
        "    # drei Datensätze aufteilen\r\n",
        "    test_df_for_label = images_for_label_df[:num_test_img_for_label]\r\n",
        "    test_df = pd.concat([test_df,test_df_for_label])\r\n",
        "    \r\n",
        "    vald_df_for_label = images_for_label_df[num_test_img_for_label:\r\n",
        "                                            num_test_img_for_label + \r\n",
        "                                            num_val_images]\r\n",
        "    val_df = pd.concat([val_df,vald_df_for_label])\r\n",
        "    \r\n",
        "    train_df_for_label = images_for_label_df[num_test_img_for_label + \r\n",
        "                                             num_val_images:]\r\n",
        "    train_df = pd.concat([train_df,train_df_for_label])\r\n",
        "    \r\n",
        "  # Dataframes zufällig mischen und neu indizieren\r\n",
        "  val_df = val_df.sample(frac=1).reset_index(drop=True)\r\n",
        "  train_df = train_df.sample(frac=1).reset_index(drop=True)\r\n",
        "  test_df = test_df.sample(frac=1).reset_index(drop=True)\r\n",
        "\r\n",
        "  partitions.append([train_df, val_df, test_df])\r\n",
        "  partitions_size_dict[i] = num_train_img_per_class"
      ],
      "execution_count": 4,
      "outputs": []
    },
    {
      "cell_type": "markdown",
      "metadata": {
        "id": "eZp6OI6G8yNa"
      },
      "source": [
        "# Das neuronale Netz bauen"
      ]
    },
    {
      "cell_type": "code",
      "metadata": {
        "colab": {
          "base_uri": "https://localhost:8080/"
        },
        "id": "XFaSnOuPX6P5",
        "outputId": "a22267e2-f3b2-4b08-cabe-9cf1657bc15d"
      },
      "source": [
        "# Wird für den SGDW Optimizer gebraucht\r\n",
        "!pip install tensorflow_addons\r\n",
        "\r\n",
        "import tensorflow as tf\r\n",
        "print('Tensorflow Version: ', tf.__version__)\r\n",
        "import tensorflow_addons as tfa\r\n",
        "from tensorflow_addons.optimizers import SGDW\r\n",
        "print('Tensorflow Addons Version:',tfa.__version__)\r\n",
        "from tensorflow.keras.layers import Dense, Flatten, Conv2D, Input\r\n",
        "from tensorflow.keras.layers import AveragePooling2D, MaxPool2D, Lambda\r\n",
        "from tensorflow.keras.layers import Concatenate, Dropout, ReLU\r\n",
        "from tensorflow.keras import Model\r\n",
        "from keras.preprocessing import image\r\n",
        "from keras import backend as keras_backend\r\n",
        "from tensorflow.math import confusion_matrix\r\n",
        "\r\n",
        "# Garbage Collector\r\n",
        "# Soll helfen den Speicher sauber zu halten\r\n",
        "import gc"
      ],
      "execution_count": 5,
      "outputs": [
        {
          "output_type": "stream",
          "text": [
            "Collecting tensorflow_addons\n",
            "\u001b[?25l  Downloading https://files.pythonhosted.org/packages/2e/af/0ce633c373d2b0476ef8299673d22275fcc3c5ba283b2cec4aa06bc5b810/tensorflow_addons-0.12.1-cp36-cp36m-manylinux2010_x86_64.whl (703kB)\n",
            "\r\u001b[K     |▌                               | 10kB 27.3MB/s eta 0:00:01\r\u001b[K     |█                               | 20kB 15.7MB/s eta 0:00:01\r\u001b[K     |█▍                              | 30kB 13.3MB/s eta 0:00:01\r\u001b[K     |█▉                              | 40kB 12.3MB/s eta 0:00:01\r\u001b[K     |██▎                             | 51kB 8.6MB/s eta 0:00:01\r\u001b[K     |██▉                             | 61kB 8.0MB/s eta 0:00:01\r\u001b[K     |███▎                            | 71kB 9.0MB/s eta 0:00:01\r\u001b[K     |███▊                            | 81kB 10.0MB/s eta 0:00:01\r\u001b[K     |████▏                           | 92kB 9.5MB/s eta 0:00:01\r\u001b[K     |████▋                           | 102kB 7.3MB/s eta 0:00:01\r\u001b[K     |█████▏                          | 112kB 7.3MB/s eta 0:00:01\r\u001b[K     |█████▋                          | 122kB 7.3MB/s eta 0:00:01\r\u001b[K     |██████                          | 133kB 7.3MB/s eta 0:00:01\r\u001b[K     |██████▌                         | 143kB 7.3MB/s eta 0:00:01\r\u001b[K     |███████                         | 153kB 7.3MB/s eta 0:00:01\r\u001b[K     |███████▌                        | 163kB 7.3MB/s eta 0:00:01\r\u001b[K     |████████                        | 174kB 7.3MB/s eta 0:00:01\r\u001b[K     |████████▍                       | 184kB 7.3MB/s eta 0:00:01\r\u001b[K     |████████▉                       | 194kB 7.3MB/s eta 0:00:01\r\u001b[K     |█████████▎                      | 204kB 7.3MB/s eta 0:00:01\r\u001b[K     |█████████▉                      | 215kB 7.3MB/s eta 0:00:01\r\u001b[K     |██████████▎                     | 225kB 7.3MB/s eta 0:00:01\r\u001b[K     |██████████▊                     | 235kB 7.3MB/s eta 0:00:01\r\u001b[K     |███████████▏                    | 245kB 7.3MB/s eta 0:00:01\r\u001b[K     |███████████▋                    | 256kB 7.3MB/s eta 0:00:01\r\u001b[K     |████████████▏                   | 266kB 7.3MB/s eta 0:00:01\r\u001b[K     |████████████▋                   | 276kB 7.3MB/s eta 0:00:01\r\u001b[K     |█████████████                   | 286kB 7.3MB/s eta 0:00:01\r\u001b[K     |█████████████▌                  | 296kB 7.3MB/s eta 0:00:01\r\u001b[K     |██████████████                  | 307kB 7.3MB/s eta 0:00:01\r\u001b[K     |██████████████▍                 | 317kB 7.3MB/s eta 0:00:01\r\u001b[K     |███████████████                 | 327kB 7.3MB/s eta 0:00:01\r\u001b[K     |███████████████▍                | 337kB 7.3MB/s eta 0:00:01\r\u001b[K     |███████████████▉                | 348kB 7.3MB/s eta 0:00:01\r\u001b[K     |████████████████▎               | 358kB 7.3MB/s eta 0:00:01\r\u001b[K     |████████████████▊               | 368kB 7.3MB/s eta 0:00:01\r\u001b[K     |█████████████████▎              | 378kB 7.3MB/s eta 0:00:01\r\u001b[K     |█████████████████▊              | 389kB 7.3MB/s eta 0:00:01\r\u001b[K     |██████████████████▏             | 399kB 7.3MB/s eta 0:00:01\r\u001b[K     |██████████████████▋             | 409kB 7.3MB/s eta 0:00:01\r\u001b[K     |███████████████████             | 419kB 7.3MB/s eta 0:00:01\r\u001b[K     |███████████████████▋            | 430kB 7.3MB/s eta 0:00:01\r\u001b[K     |████████████████████            | 440kB 7.3MB/s eta 0:00:01\r\u001b[K     |████████████████████▌           | 450kB 7.3MB/s eta 0:00:01\r\u001b[K     |█████████████████████           | 460kB 7.3MB/s eta 0:00:01\r\u001b[K     |█████████████████████▍          | 471kB 7.3MB/s eta 0:00:01\r\u001b[K     |██████████████████████          | 481kB 7.3MB/s eta 0:00:01\r\u001b[K     |██████████████████████▍         | 491kB 7.3MB/s eta 0:00:01\r\u001b[K     |██████████████████████▉         | 501kB 7.3MB/s eta 0:00:01\r\u001b[K     |███████████████████████▎        | 512kB 7.3MB/s eta 0:00:01\r\u001b[K     |███████████████████████▊        | 522kB 7.3MB/s eta 0:00:01\r\u001b[K     |████████████████████████▎       | 532kB 7.3MB/s eta 0:00:01\r\u001b[K     |████████████████████████▊       | 542kB 7.3MB/s eta 0:00:01\r\u001b[K     |█████████████████████████▏      | 552kB 7.3MB/s eta 0:00:01\r\u001b[K     |█████████████████████████▋      | 563kB 7.3MB/s eta 0:00:01\r\u001b[K     |██████████████████████████      | 573kB 7.3MB/s eta 0:00:01\r\u001b[K     |██████████████████████████▋     | 583kB 7.3MB/s eta 0:00:01\r\u001b[K     |███████████████████████████     | 593kB 7.3MB/s eta 0:00:01\r\u001b[K     |███████████████████████████▌    | 604kB 7.3MB/s eta 0:00:01\r\u001b[K     |████████████████████████████    | 614kB 7.3MB/s eta 0:00:01\r\u001b[K     |████████████████████████████▍   | 624kB 7.3MB/s eta 0:00:01\r\u001b[K     |████████████████████████████▉   | 634kB 7.3MB/s eta 0:00:01\r\u001b[K     |█████████████████████████████▍  | 645kB 7.3MB/s eta 0:00:01\r\u001b[K     |█████████████████████████████▉  | 655kB 7.3MB/s eta 0:00:01\r\u001b[K     |██████████████████████████████▎ | 665kB 7.3MB/s eta 0:00:01\r\u001b[K     |██████████████████████████████▊ | 675kB 7.3MB/s eta 0:00:01\r\u001b[K     |███████████████████████████████▏| 686kB 7.3MB/s eta 0:00:01\r\u001b[K     |███████████████████████████████▊| 696kB 7.3MB/s eta 0:00:01\r\u001b[K     |████████████████████████████████| 706kB 7.3MB/s \n",
            "\u001b[?25hRequirement already satisfied: typeguard>=2.7 in /usr/local/lib/python3.6/dist-packages (from tensorflow_addons) (2.7.1)\n",
            "Installing collected packages: tensorflow-addons\n",
            "Successfully installed tensorflow-addons-0.12.1\n",
            "Tensorflow Version:  2.4.1\n",
            "Tensorflow Addons Version: 0.12.1\n"
          ],
          "name": "stdout"
        }
      ]
    },
    {
      "cell_type": "markdown",
      "metadata": {
        "id": "Z2Up60Ya_LYY"
      },
      "source": [
        "Hier werden die Gewichte des vortrainierten AlexNets herunterladen:<br>\r\n",
        "Ursprung zu den Gewichten ist http://www.cs.toronto.edu/~guerzhoy/tf_alexnet/bvlc_alexnet.npy"
      ]
    },
    {
      "cell_type": "code",
      "metadata": {
        "id": "v6VwWZSqnNM8",
        "colab": {
          "base_uri": "https://localhost:8080/"
        },
        "outputId": "62166365-e5f1-4827-d0e9-b3c07290c130"
      },
      "source": [
        "import urllib.request\r\n",
        "\r\n",
        "# Ins Hauptverzeichnis wechseln\r\n",
        "os.chdir('/content/')\r\n",
        "\r\n",
        "# Dieser Link könnte irgendwann ins Leere laufen\r\n",
        "# Besser wäre es die Gewichte vorher dauerhaft lokal zu sichern\r\n",
        "# Es wird dennoch dieser Link verwendet, da er im Moment einen\r\n",
        "# 'Globalen' Zugang gewährleistet\r\n",
        "path_to_AlexNet_weights = \\\r\n",
        "  'http://www.cs.toronto.edu/~guerzhoy/tf_alexnet/bvlc_alexnet.npy'\r\n",
        "local_AlexNet_weights_filename = 'AlexNet_weights.npy'\r\n",
        "\r\n",
        "# Die Gewichte nur herunterladen, wenn sie nicht bereits\r\n",
        "# lokal vorhanden sind.\r\n",
        "if not os.path.isfile(local_AlexNet_weights_filename):\r\n",
        "  print('Downloade AlexNet Gewichte...')\r\n",
        "  urllib.request.urlretrieve(path_to_AlexNet_weights,\r\n",
        "                             local_AlexNet_weights_filename)\r\n",
        "  print('Download abgeschlossen!')\r\n",
        "else:\r\n",
        "  print('AlexNet Gewichte sind bereits vorhanden.')"
      ],
      "execution_count": 6,
      "outputs": [
        {
          "output_type": "stream",
          "text": [
            "Downloade AlexNet Gewichte...\n",
            "Download abgeschlossen!\n"
          ],
          "name": "stdout"
        }
      ]
    },
    {
      "cell_type": "markdown",
      "metadata": {
        "id": "hLLUOF-w_S8A"
      },
      "source": [
        "Zur späteren Nutzung werden die Gewichte in einen Dictionary geladen."
      ]
    },
    {
      "cell_type": "code",
      "metadata": {
        "id": "2G4jlXkcogZj"
      },
      "source": [
        "AlexNet_weights_dict = np.load(local_AlexNet_weights_filename,\r\n",
        "                               encoding='bytes',\r\n",
        "                               allow_pickle=True).item()"
      ],
      "execution_count": 7,
      "outputs": []
    },
    {
      "cell_type": "markdown",
      "metadata": {
        "id": "pati9Ofs_jow"
      },
      "source": [
        "Diese Funktion führt einen Plausibilitätscheck des im Anschluss gebauten neuronalen Netzes durch.<br>\r\n",
        "Das Ergebnis der Funktion gibt Auskunft darüber, ob die Dimensionen der Layer des Netzes mit denen aus der Veröffentlichen von Afzal et al. übereinstimmen."
      ]
    },
    {
      "cell_type": "code",
      "metadata": {
        "id": "0ZZDxKbL8m4J"
      },
      "source": [
        "def VerifyModelDimensions(model: type(Model)):\r\n",
        "  dim_dict = {'Input': (227, 227, 3),\r\n",
        "              'conv1': (55, 55, 96),\r\n",
        "              'Pool1': (27, 27, 96),\r\n",
        "              'conv2': (27, 27, 256),\r\n",
        "              'Pool2': (13, 13, 256),\r\n",
        "              'conv3': (13, 13, 384),\r\n",
        "              'conv4': (13, 13, 384),\r\n",
        "              'conv5': (13, 13, 256),\r\n",
        "              'Pool3': (6, 6, 256),\r\n",
        "              'fc6': (4096,),\r\n",
        "              'fc7': (4096,),\r\n",
        "              'fc8': (10,)}\r\n",
        "\r\n",
        "  for layer in model.layers:\r\n",
        "    if layer._name in dim_dict:\r\n",
        "      # Lösche jeden Eintrag aus dem Dictionary, wenn die Dimensionen\r\n",
        "      # übereinstimmen. Ist der Dictionary am Ende leer, ist das Netz gebaut,\r\n",
        "      # wie es im Paper beschrieben wurde\r\n",
        "      if dim_dict[layer._name] == layer.output_shape[1:]:\r\n",
        "        del dim_dict[layer._name]\r\n",
        "\r\n",
        "      # Input Layer muss gesondert geprüft werden\r\n",
        "      if layer._name == 'conv1':\r\n",
        "        if dim_dict['Input'] == layer.input_shape[1:]:\r\n",
        "          del dim_dict['Input']\r\n",
        "  \r\n",
        "  if len(dim_dict) > 0:\r\n",
        "    print('Prüfe Netzarchitektur!')\r\n",
        "    print('Folgende Dimension(en) stimmen nicht überein:')\r\n",
        "    print('Soll:', dim_dict)\r\n",
        "  else:\r\n",
        "    print('Dimensionen der Netzarchitektur korrekt.')\r\n",
        "      "
      ],
      "execution_count": 8,
      "outputs": []
    },
    {
      "cell_type": "markdown",
      "metadata": {
        "id": "rW7rOEO8qn3D"
      },
      "source": [
        "Das Caffe Framework verwendet ein anderes Padding als Keras.<br>\r\n",
        "Siehe beispielsweise: https://stackoverflow.com/questions/40997185/differences-between-caffe-and-keras-when-applying-max-pooling <br>\r\n",
        "Die Implementierung von Afzal et al. wurde in Caffe vorgenommen.<br>\r\n",
        "In dieser (Keras) Implementierung soll das Padding, wie es Caffe vornimmt zur Wahrung der Konsistenz nachgebaut werden.<br>\r\n",
        "Dies ist der Zweck der nachfolgenden Funktion.<br><br>\r\n",
        "Hier wird ein symmetrisches zero-padding (zero-padding ist der Standart in Caffe) vorgenommen. <br>\r\n",
        "Symmetrisch heißt in diesem Fall, dass \"links\" und \"rechts\" sowie \"oben\" und \"unten\" immer die gleiche Anzahl an Spalten bzw. Zeilen angefügt werden."
      ]
    },
    {
      "cell_type": "code",
      "metadata": {
        "id": "bnvlYzvwp9D6"
      },
      "source": [
        "def ApplyCaffeSymmetricPadding(symmetric_padding_width: int,\r\n",
        "                               input_layer: type(Conv2D)):\r\n",
        "  # Das gleiche (symmetrische) Padding wie in Caffe benutzen, damit die\r\n",
        "  # Layerdimensionen mit der Veröffentlichung von Afzal et. al. übereinstimmt\r\n",
        "  # Die zusätzlichen Spalten werden mit Nullen aufgefüllt (Caffe default)\r\n",
        "  padding = [[0, 0], [symmetric_padding_width, symmetric_padding_width], \\\r\n",
        "             [symmetric_padding_width, symmetric_padding_width], [0, 0]]\r\n",
        "\r\n",
        "  return Lambda(lambda x: tf.pad(x, padding))(input_layer) "
      ],
      "execution_count": 9,
      "outputs": []
    },
    {
      "cell_type": "markdown",
      "metadata": {
        "id": "St65HW0do4nk"
      },
      "source": [
        "Die Veröffentlichung von Afzal et al. spezifiert für einige 2D-Faltungslayer eine Kernel-Tiefe (dritte Dimension), die geringer ist als die Tiefe des Layers.<br>\r\n",
        "Beispielsweise ist die Tiefe von \"conv1\" 96 Schichten, während der angewandte Kernel eine Tiefe von 48 Schichten hat.<br>\r\n",
        "Um dies umzusetzen wird in Anlehnung an die Krizhevsky et al. Veröffentlichung (AlexNet) die \"conv1\" Layer in zwei Layer aufgeteilt, die jeweils eine Tiefe von 48 Schichten haben.<br>\r\n",
        "Die Anzahl der Filter wird dann gleichmäßig auf diese beiden (Halb-)Layer verteilt.<br>\r\n",
        "Im Falle von \"conv1\" heißt das dann, dass pro halber Layer 256 / 2 = 128 Kernel verwendet werden.<br>\r\n",
        "In dieser Funktion werden auch schon die Gewichte des AlexNet initialisiert.<br>\r\n",
        "Abschließend werden die zwei \"Halb-Layer\" wieder zusammengefügt.<br>\r\n",
        "Die Werte für das Pooling wurden aus der Krizhevsky et al. Veröffentlichung entnommen."
      ]
    },
    {
      "cell_type": "code",
      "metadata": {
        "id": "_fFe4j71d-nc"
      },
      "source": [
        "def SlicedConv2D(filters: int,\r\n",
        "                 kernel_size: tuple,\r\n",
        "                 strides: int,\r\n",
        "                 activation: str,\r\n",
        "                 name: str,\r\n",
        "                 input_layer: type(Conv2D),\r\n",
        "                 symmetric_padding_width: int = 0):\r\n",
        "  \r\n",
        "  # Prüfen, ob für die Layer Gewichte aus dem AlexNet vorliegen\r\n",
        "  if not name in AlexNet_weights_dict:\r\n",
        "    print('Fehler! Die Layer ' + name + ' ist in AlexNet nicht vorhanden.')\r\n",
        "    return -1\r\n",
        "  \r\n",
        "  kernel_depth = int(input_layer.shape[3] / 2)\r\n",
        "  # Den ersten conv-Block in zwei Zweige aufteilen,\r\n",
        "  # um die dritte Kernel Dimension (bsplsw. 5 x 5 x >>48<<)\r\n",
        "  # korrekt zu berücksichtigen                            \r\n",
        "  slice_1 = Lambda(lambda x : x[:,:,:,:kernel_depth])(input_layer)\r\n",
        "  slice_2 = Lambda(lambda x : x[:,:,:,kernel_depth:])(input_layer)\r\n",
        "  \r\n",
        "  slice_1_sym_pad = ApplyCaffeSymmetricPadding(symmetric_padding_width, slice_1)\r\n",
        "  slice_2_sym_pad = ApplyCaffeSymmetricPadding(symmetric_padding_width, slice_2)\r\n",
        "\r\n",
        "  # Gewichte der zwei slices vorbereiten\r\n",
        "  weights1 = [AlexNet_weights_dict[name][0][:, :, :, :filters // 2],\r\n",
        "              AlexNet_weights_dict[name][1][:filters // 2]]\r\n",
        "\r\n",
        "  weights2 = [AlexNet_weights_dict[name][0][:, :, :, filters // 2:],\r\n",
        "              AlexNet_weights_dict[name][1][filters // 2:]]\r\n",
        "  \r\n",
        "  # Feature Maps erstellen\r\n",
        "  conv_slice_1 = Conv2D(filters=filters / 2,\r\n",
        "                        kernel_size=kernel_size,\r\n",
        "                        strides=strides,\r\n",
        "                        activation=activation,\r\n",
        "                        padding='valid',\r\n",
        "                        weights=weights1\r\n",
        "                        )(slice_1_sym_pad)\r\n",
        "\r\n",
        "  conv_slice_2 = Conv2D(filters=filters / 2,\r\n",
        "                        kernel_size=kernel_size,\r\n",
        "                        strides=strides,\r\n",
        "                        activation=activation,\r\n",
        "                        padding='valid',\r\n",
        "                        weights=weights2\r\n",
        "                        )(slice_2_sym_pad)\r\n",
        "  # Feature Maps zusammenfügen\r\n",
        "  concat_conv = Concatenate(name=name)([conv_slice_1, conv_slice_2])\r\n",
        "  \r\n",
        "  return concat_conv"
      ],
      "execution_count": 10,
      "outputs": []
    },
    {
      "cell_type": "markdown",
      "metadata": {
        "id": "gUBt0Rmd444q"
      },
      "source": [
        "In den Veröffentlichungen von Krizhevsky et al. und Afzal et al. wird eine *local response normalization* vor dem Pooling durchgeführt.<br>\r\n",
        "Folgende Funktion implementiert diese Normalisierung und das Pooling.<br>\r\n",
        "Dokumentation: https://www.tensorflow.org/api_docs/python/tf/nn/local_response_normalization<br>\r\n",
        "Parameter für die Normalisierung sind aus der Krizhevsky Veröffentlichung entnommen"
      ]
    },
    {
      "cell_type": "code",
      "metadata": {
        "id": "Q834qyjz3Z6S"
      },
      "source": [
        "def NormAndPoolConv2D(input_layer: type(Conv2D),\r\n",
        "                      name: str):\r\n",
        "  norm_func = lambda layer: tf.nn.local_response_normalization(layer,\r\n",
        "                                                               depth_radius=5,\r\n",
        "                                                               bias=2,\r\n",
        "                                                               alpha=1E-4,\r\n",
        "                                                               beta=0.75)\r\n",
        "  # Erst normalisieren und dann ReLU (Krizhevsky)\r\n",
        "  normed_layer = Lambda(norm_func)(input_layer)\r\n",
        "  relu_layer = ReLU()(normed_layer)\r\n",
        "  pooled_layer = MaxPool2D(pool_size=(3, 3),\r\n",
        "                           strides=(2,2),\r\n",
        "                           padding='valid',\r\n",
        "                           name=name)(relu_layer)\r\n",
        "\r\n",
        "  return pooled_layer"
      ],
      "execution_count": 11,
      "outputs": []
    },
    {
      "cell_type": "markdown",
      "metadata": {
        "id": "-DyHdYTkr4Jr"
      },
      "source": [
        "Im Folgenden wird eine Funktion definiert, die das Modell baut.<br>\r\n",
        "Im Anschluss der Definition, wird die Funktion testweise aufgerufen, um die korrekte Architektur zu prüfen (Unit-Test)."
      ]
    },
    {
      "cell_type": "code",
      "metadata": {
        "id": "gpIuhIxCommD",
        "colab": {
          "base_uri": "https://localhost:8080/"
        },
        "outputId": "6807d7f0-ef34-4044-9969-2acc3b3b54db"
      },
      "source": [
        "def build_model():\r\n",
        "  # Entnommen aus dem Krizhevsky Paper\r\n",
        "  dropout_rate = 0.5\r\n",
        "  model_input = Input(shape=(227, 227, 3), name='Input')\r\n",
        "\r\n",
        "  # Keine Aktivierung in einer Conv2D Layer, weil die ReLU Layer nachträglich\r\n",
        "  # in der Funktion 'NormAndPoolConv2D' angewandt wird\r\n",
        "  conv1 = Conv2D(filters=96,\r\n",
        "                 kernel_size=(11, 11),\r\n",
        "                 strides=4,\r\n",
        "                 activation=None,\r\n",
        "                 name='conv1',\r\n",
        "                 weights=AlexNet_weights_dict['conv1']\r\n",
        "                 )(model_input)\r\n",
        "\r\n",
        "  pool1 = NormAndPoolConv2D(conv1, name='Pool1')\r\n",
        "\r\n",
        "  conv2 = SlicedConv2D(filters=256,\r\n",
        "                       kernel_size=(5, 5),\r\n",
        "                       strides=1,\r\n",
        "                       activation=None,\r\n",
        "                       name='conv2',\r\n",
        "                       input_layer=pool1,\r\n",
        "                       symmetric_padding_width=2)                                \r\n",
        "  \r\n",
        "  pool2 = NormAndPoolConv2D(conv2,name='Pool2')\r\n",
        "\r\n",
        "  pool2_padded = ApplyCaffeSymmetricPadding(1, pool2)\r\n",
        "\r\n",
        "  conv3 = Conv2D(filters=384,\r\n",
        "                 kernel_size=(3, 3),\r\n",
        "                 strides=1,\r\n",
        "                 activation='relu',\r\n",
        "                 padding='valid',\r\n",
        "                 name='conv3',\r\n",
        "                 weights=AlexNet_weights_dict['conv3']\r\n",
        "                 )(pool2_padded)\r\n",
        "\r\n",
        "  conv4 = SlicedConv2D(filters=384,\r\n",
        "                       kernel_size=(3, 3),\r\n",
        "                       strides=1,\r\n",
        "                       activation='relu',\r\n",
        "                       name='conv4',\r\n",
        "                       input_layer=conv3,\r\n",
        "                       symmetric_padding_width=1)\r\n",
        "  \r\n",
        "  conv5 = SlicedConv2D(filters=256,\r\n",
        "                       kernel_size=(3, 3),\r\n",
        "                       strides=1,\r\n",
        "                       activation=None,\r\n",
        "                       name='conv5',\r\n",
        "                       input_layer=conv4,\r\n",
        "                       symmetric_padding_width=1)\r\n",
        "\r\n",
        "  pool3 = NormAndPoolConv2D(conv5, name='Pool3')                    \r\n",
        "\r\n",
        "  flatten = Flatten()(pool3)\r\n",
        "  dense1 = Dense(4096,\r\n",
        "                 activation='relu',\r\n",
        "                 name='fc6',\r\n",
        "                 weights=AlexNet_weights_dict['fc6'])(flatten)\r\n",
        "  \r\n",
        "  drop1 = Dropout(dropout_rate)(dense1)                        \r\n",
        "\r\n",
        "  dense2 = Dense(4096,\r\n",
        "                 activation='relu',\r\n",
        "                 name='fc7',\r\n",
        "                 weights=AlexNet_weights_dict['fc7'])(drop1)\r\n",
        "\r\n",
        "  drop2 = Dropout(dropout_rate)(dense2)                      \r\n",
        "\r\n",
        "  model_output = Dense(10,activation='softmax',name='fc8')(drop2)\r\n",
        "\r\n",
        "\r\n",
        "  model = Model(inputs=model_input, outputs=model_output)\r\n",
        "\r\n",
        "  return model\r\n",
        "\r\n",
        "\r\n",
        "# Testinstanz des Modells erstellen, um Dimension der Layer zu verifizieren\r\n",
        "dummy_model = build_model()\r\n",
        "VerifyModelDimensions(dummy_model)\r\n",
        "del dummy_model"
      ],
      "execution_count": 12,
      "outputs": [
        {
          "output_type": "stream",
          "text": [
            "Dimensionen der Netzarchitektur korrekt.\n"
          ],
          "name": "stdout"
        }
      ]
    },
    {
      "cell_type": "markdown",
      "metadata": {
        "id": "TnKIRCg-D9ax"
      },
      "source": [
        "# Das neuronale Netz trainieren"
      ]
    },
    {
      "cell_type": "markdown",
      "metadata": {
        "id": "E4skpbjnsKLc"
      },
      "source": [
        "Diese Funktion liefert die DatenGeneratoren für die drei Datensätze.<br>\r\n",
        "Die Bilder werden hier basierend auf dem Datensatz des ImageNet-Datensatzes normalisiert, auf die passende Größe skaliert und von Graufarben in RGB umgewandelt.<br>\r\n",
        "Basis für die drei Generatoren, sind drei vorpartitionierte Pandas Dataframes."
      ]
    },
    {
      "cell_type": "code",
      "metadata": {
        "id": "tp5vcOCdr7b8"
      },
      "source": [
        "def create_data_generators(train_df,\r\n",
        "                           val_df,\r\n",
        "                           test_df\r\n",
        "                          ):\r\n",
        "  datagen = image.ImageDataGenerator(featurewise_center=True,\r\n",
        "                                    featurewise_std_normalization=True,\r\n",
        "                                    rescale=1./255\r\n",
        "                                    )\r\n",
        "  # Werte für mean und std übernommen von\r\n",
        "  # https://pytorch.org/hub/pytorch_vision_alexnet/\r\n",
        "  datagen.mean = [0.485, 0.456, 0.406]\r\n",
        "  datagen.std = 0.226 # Mittelwert([0.229, 0.224, 0.225])\r\n",
        "\r\n",
        "  # Later replace train_df with partition element\r\n",
        "  train_generator = datagen.flow_from_dataframe(\r\n",
        "                                                dataframe=train_df,\r\n",
        "                                                directory=None,\r\n",
        "                                                x_col=\"Path\",\r\n",
        "                                                y_col=\"Label\",\r\n",
        "                                                batch_size=10,\r\n",
        "                                                seed=101010,\r\n",
        "                                                shuffle=True,\r\n",
        "                                                class_mode=\"categorical\",\r\n",
        "                                                target_size=(227,227),\r\n",
        "                                                color_mode=\"rgb\",\r\n",
        "                                                valid_filenames=False # Speed Up\r\n",
        "                                                )\r\n",
        "\r\n",
        "  valid_generator = datagen.flow_from_dataframe(\r\n",
        "                                                dataframe=val_df,\r\n",
        "                                                directory=None,\r\n",
        "                                                x_col=\"Path\",\r\n",
        "                                                y_col=\"Label\",\r\n",
        "                                                batch_size=10,\r\n",
        "                                                seed=101010,\r\n",
        "                                                shuffle=True,\r\n",
        "                                                class_mode=\"categorical\",\r\n",
        "                                                target_size=(227,227),\r\n",
        "                                                color_mode=\"rgb\",\r\n",
        "                                                valid_filenames=False # Speed Up\r\n",
        "                                                )\r\n",
        "\r\n",
        "  test_generator = datagen.flow_from_dataframe(\r\n",
        "                                              dataframe=test_df,\r\n",
        "                                              directory=None,\r\n",
        "                                              x_col=\"Path\",\r\n",
        "                                              y_col=\"Label\",\r\n",
        "                                              batch_size=10,\r\n",
        "                                              seed=101010,\r\n",
        "                                               # Testdaten nicht durchmischen,\r\n",
        "                                               # um korrekt Zuordung nach der\r\n",
        "                                               # Vorhersage der Klasse nicht\r\n",
        "                                               # zu verlieren\r\n",
        "                                              shuffle=False,\r\n",
        "                                              class_mode=\"categorical\",\r\n",
        "                                              target_size=(227,227),\r\n",
        "                                              color_mode=\"rgb\",\r\n",
        "                                              valid_filenames=False # Speed Up\r\n",
        "                                              )\r\n",
        "  \r\n",
        "  return train_generator, valid_generator, test_generator"
      ],
      "execution_count": 13,
      "outputs": []
    },
    {
      "cell_type": "markdown",
      "metadata": {
        "id": "KNhlIVV_uh-y"
      },
      "source": [
        "Stochastik gradient descend optimizer mit den Parametern aus der Afzal et al. Veröffentlichung initialisieren"
      ]
    },
    {
      "cell_type": "code",
      "metadata": {
        "id": "mqM9k3QitlNz"
      },
      "source": [
        "SGDW_optimizer = SGDW(learning_rate=1e-4,\r\n",
        "                      momentum=0.9,\r\n",
        "                      weight_decay=5e-4)"
      ],
      "execution_count": 14,
      "outputs": []
    },
    {
      "cell_type": "markdown",
      "metadata": {
        "id": "pzim1WEvGsKi"
      },
      "source": [
        "Mit dieser Funktion wird das Netz für eine einzelne Partitionen trainiert.<br>\r\n",
        "Zunächst wird nur die letzte Layer trainiert, da diese die einzige ist, die mit zufälligen Werten initialisiert wurde.<br>\r\n",
        "Im Anschluss werden alle Schichten auf einmal trainiert.<br>\r\n",
        "Es ist unklar, ob Afzal et al. genauso vorgegangen sind.<br>\r\n",
        "Alternativ könnten auch alle Layer auf einmal trainiert werden, was im Allgemeinen eher unüblich ist. "
      ]
    },
    {
      "cell_type": "code",
      "metadata": {
        "id": "XB6nlH8quhDj"
      },
      "source": [
        "def train_network_on_dataset(train_df,\r\n",
        "                             val_df,\r\n",
        "                             test_df,\r\n",
        "                             num_train_epochs: int = 10,\r\n",
        "                             verbose: int = 0,\r\n",
        "                             save_models: bool=True):\r\n",
        "  \r\n",
        "  # Frisches Modell anlegen\r\n",
        "  model = build_model()\r\n",
        "\r\n",
        "  train_generator, valid_generator, test_generator = \\\r\n",
        "    create_data_generators(train_df, val_df, test_df)\r\n",
        "\r\n",
        "  # Alle Layer bis auf die letzte einfrieren\r\n",
        "  for layer in model.layers:\r\n",
        "    if not layer._name in ['fc8']:\r\n",
        "      layer.trainable = False\r\n",
        "\r\n",
        "  model.compile(optimizer=SGDW_optimizer,\r\n",
        "                loss='categorical_crossentropy',\r\n",
        "                metrics=['accuracy'])\r\n",
        "\r\n",
        "  print('Trainiere nur letzte Layer...')\r\n",
        "  # Hier sind die Epochen fest auf 3 gesetzt\r\n",
        "  model.fit(x=train_generator,\r\n",
        "            validation_data=valid_generator,\r\n",
        "            epochs=3,\r\n",
        "            verbose=verbose\r\n",
        "            )\r\n",
        "  \r\n",
        "  # Das ganze Netz trainieren\r\n",
        "  for layer in model.layers:\r\n",
        "    layer.trainable = True\r\n",
        "\r\n",
        "  model.compile(optimizer=SGDW_optimizer,\r\n",
        "                loss='categorical_crossentropy',\r\n",
        "                metrics=['accuracy'])\r\n",
        "\r\n",
        "  print('Trainiere alle Layer...')\r\n",
        "  hist = model.fit(x=train_generator,\r\n",
        "                   validation_data=valid_generator,\r\n",
        "                   epochs=num_train_epochs,\r\n",
        "                   verbose=verbose\r\n",
        "                   )\r\n",
        "  \r\n",
        "  # Modellparameter speichern, falls das entsprechende Flag gesetzt ist\r\n",
        "  if save_models:\r\n",
        "    if not 'Saved_Models' in os.listdir():\r\n",
        "      !mkdir 'Saved_Models'\r\n",
        "\r\n",
        "    train_ratio = (len(train_df) + len(val_df)) / 3842 * 100\r\n",
        "    now = datetime.now()\r\n",
        "    now_str = now.strftime(\"%y-%m-%d_%H-%M-%S\")\r\n",
        "    model_save_path = 'Saved_Models/{:2.1f}_{}'.format(train_ratio, now_str)\r\n",
        "    print('Speicher unter Namen:', model_save_path)\r\n",
        "    model.save(model_save_path)\r\n",
        "\r\n",
        "  return model, hist"
      ],
      "execution_count": 15,
      "outputs": []
    },
    {
      "cell_type": "markdown",
      "metadata": {
        "id": "0tpoQUxsGzz5"
      },
      "source": [
        "Hier wird über alle 100 Partitionen iteriert, das Netz jedes Mal neu trainieren und die *Validation Accuracy* in Abhängigkeit von der Größe des Trainindatensatzes der jeweiligen Partition gespeichert.<br>\r\n",
        "Die Größen der Trainingsdatensätze der Partitionen werden in Bins sortiert:<br>\r\n",
        "1. Bin 20-25 Trainingsbilder pro Klasse\r\n",
        "2. Bin 26-35 Trainingsbilder pro Klasse\r\n",
        "3. Bin 36-45 Trainingsbilder pro Klasse\r\n",
        "4.-9. Bin analog<br>\r\n",
        "\r\n",
        "Das trainierte Modell, das mit dem größten Datensatz trainiert wurde, wird in einer Variable gespeichert, damit daraus später die confusion Matrix erstellt werden kann.\r\n",
        "<br><b>Achtung! Das Training aller 100 Partition kann bis zu 7 Stunden dauern</b><br>\r\n",
        "Zum Ausprobieren empfiehlt es sich die Anzahl der Partitionen (und Trainingsepochen) zu reduzieren."
      ]
    },
    {
      "cell_type": "code",
      "metadata": {
        "id": "nrIY1gbqG455",
        "colab": {
          "base_uri": "https://localhost:8080/"
        },
        "outputId": "bb3c265b-b777-433b-8691-f3dbfeb50df9"
      },
      "source": [
        "# Die Listen vorbereiten, die zur Berechnung der mittleren\r\n",
        "# Validation Accuaracy pro Bin gebraucht werden\r\n",
        "number_of_bins = 9\r\n",
        "summed_accuracies_of_binned_partions = [0] * number_of_bins\r\n",
        "num_partitions_per_bin = [0] * number_of_bins\r\n",
        "\r\n",
        "# Bestimmen welcher Index der Partition mit dem größten Trainingsdatensatz\r\n",
        "# entspricht\r\n",
        "biggest_partition_size = max(list(partitions_size_dict.values()))\r\n",
        "print('In der Partition mit dem größten Trainingsdatensatz wird mit',\r\n",
        "      biggest_partition_size, 'Bildern pro Klasse trainiert.')\r\n",
        "biggest_partition_index = \\\r\n",
        "  list(partitions_size_dict.values()).index(biggest_partition_size)\r\n",
        "\r\n",
        "model_with_max_training = None\r\n",
        "\r\n",
        "# Über alle Partitionen iterieren\r\n",
        "for index, partition in enumerate(partitions):\r\n",
        "  print('Trainiere Partition ' + str(index + 1) + '/' + str(len(partitions)))\r\n",
        "  model, hist = train_network_on_dataset(partition[0],\r\n",
        "                                         partition[1],\r\n",
        "                                         partition[2],\r\n",
        "                                         num_train_epochs=10,\r\n",
        "                                         verbose=0,\r\n",
        "                                         save_models=False)\r\n",
        "\r\n",
        "  # Den Index des Bins anhand der Anzahl der Bilder pro Klasse bestimmen\r\n",
        "  index_of_bin = int(np.rint(partitions_size_dict[index] / 10 - 2))\r\n",
        "\r\n",
        "  num_partitions_per_bin[index_of_bin] += 1\r\n",
        "\r\n",
        "  summed_accuracies_of_binned_partions[index_of_bin] +=\\\r\n",
        "    hist.history['val_accuracy'][-1]\r\n",
        "\r\n",
        "  # Das Model, das mit dem größten Datensatz trainiert wurde ,'speichern'\r\n",
        "  if index == biggest_partition_index:\r\n",
        "    model_with_max_training = model\r\n",
        "  \r\n",
        "  # Speicher freigeben, damit die GPU/der RAM nicht überläuft\r\n",
        "  del model\r\n",
        "  del hist\r\n",
        "  keras_backend.clear_session()\r\n",
        "  gc.collect()\r\n",
        "  print('------------')"
      ],
      "execution_count": 16,
      "outputs": [
        {
          "output_type": "stream",
          "text": [
            "In der Partition mit dem größten Trainingsdatensatz wird mit 100 Bildern pro Klasse trainiert.\n",
            "Trainiere Partition 1/30\n",
            "Found 660 validated image filenames belonging to 10 classes.\n",
            "Found 160 validated image filenames belonging to 10 classes.\n",
            "Found 2662 validated image filenames belonging to 10 classes.\n",
            "Trainiere nur letzte Layer...\n",
            "Trainiere alle Layer...\n",
            "------------\n",
            "Trainiere Partition 2/30\n",
            "Found 210 validated image filenames belonging to 10 classes.\n",
            "Found 50 validated image filenames belonging to 10 classes.\n",
            "Found 3222 validated image filenames belonging to 10 classes.\n",
            "Trainiere nur letzte Layer...\n",
            "Trainiere alle Layer...\n",
            "------------\n",
            "Trainiere Partition 3/30\n",
            "Found 460 validated image filenames belonging to 10 classes.\n",
            "Found 110 validated image filenames belonging to 10 classes.\n",
            "Found 2912 validated image filenames belonging to 10 classes.\n",
            "Trainiere nur letzte Layer...\n",
            "Trainiere alle Layer...\n",
            "------------\n",
            "Trainiere Partition 4/30\n",
            "Found 290 validated image filenames belonging to 10 classes.\n",
            "Found 70 validated image filenames belonging to 10 classes.\n",
            "Found 3122 validated image filenames belonging to 10 classes.\n",
            "Trainiere nur letzte Layer...\n",
            "Trainiere alle Layer...\n",
            "------------\n",
            "Trainiere Partition 5/30\n",
            "Found 610 validated image filenames belonging to 10 classes.\n",
            "Found 150 validated image filenames belonging to 10 classes.\n",
            "Found 2722 validated image filenames belonging to 10 classes.\n",
            "Trainiere nur letzte Layer...\n",
            "Trainiere alle Layer...\n",
            "------------\n",
            "Trainiere Partition 6/30\n",
            "Found 520 validated image filenames belonging to 10 classes.\n",
            "Found 130 validated image filenames belonging to 10 classes.\n",
            "Found 2832 validated image filenames belonging to 10 classes.\n",
            "Trainiere nur letzte Layer...\n",
            "Trainiere alle Layer...\n",
            "------------\n",
            "Trainiere Partition 7/30\n",
            "Found 250 validated image filenames belonging to 10 classes.\n",
            "Found 60 validated image filenames belonging to 10 classes.\n",
            "Found 3172 validated image filenames belonging to 10 classes.\n",
            "Trainiere nur letzte Layer...\n",
            "Trainiere alle Layer...\n",
            "------------\n",
            "Trainiere Partition 8/30\n",
            "Found 650 validated image filenames belonging to 10 classes.\n",
            "Found 160 validated image filenames belonging to 10 classes.\n",
            "Found 2672 validated image filenames belonging to 10 classes.\n",
            "Trainiere nur letzte Layer...\n",
            "Trainiere alle Layer...\n",
            "------------\n",
            "Trainiere Partition 9/30\n",
            "Found 300 validated image filenames belonging to 10 classes.\n",
            "Found 80 validated image filenames belonging to 10 classes.\n",
            "Found 3102 validated image filenames belonging to 10 classes.\n",
            "Trainiere nur letzte Layer...\n",
            "Trainiere alle Layer...\n",
            "------------\n",
            "Trainiere Partition 10/30\n",
            "Found 790 validated image filenames belonging to 10 classes.\n",
            "Found 200 validated image filenames belonging to 10 classes.\n",
            "Found 2492 validated image filenames belonging to 10 classes.\n",
            "Trainiere nur letzte Layer...\n",
            "Trainiere alle Layer...\n",
            "------------\n",
            "Trainiere Partition 11/30\n",
            "Found 500 validated image filenames belonging to 10 classes.\n",
            "Found 120 validated image filenames belonging to 10 classes.\n",
            "Found 2862 validated image filenames belonging to 10 classes.\n",
            "Trainiere nur letzte Layer...\n",
            "Trainiere alle Layer...\n",
            "------------\n",
            "Trainiere Partition 12/30\n",
            "Found 300 validated image filenames belonging to 10 classes.\n",
            "Found 70 validated image filenames belonging to 10 classes.\n",
            "Found 3112 validated image filenames belonging to 10 classes.\n",
            "Trainiere nur letzte Layer...\n",
            "Trainiere alle Layer...\n",
            "------------\n",
            "Trainiere Partition 13/30\n",
            "Found 500 validated image filenames belonging to 10 classes.\n",
            "Found 130 validated image filenames belonging to 10 classes.\n",
            "Found 2852 validated image filenames belonging to 10 classes.\n",
            "Trainiere nur letzte Layer...\n",
            "Trainiere alle Layer...\n",
            "------------\n",
            "Trainiere Partition 14/30\n",
            "Found 170 validated image filenames belonging to 10 classes.\n",
            "Found 40 validated image filenames belonging to 10 classes.\n",
            "Found 3272 validated image filenames belonging to 10 classes.\n",
            "Trainiere nur letzte Layer...\n",
            "Trainiere alle Layer...\n",
            "------------\n",
            "Trainiere Partition 15/30\n",
            "Found 210 validated image filenames belonging to 10 classes.\n",
            "Found 50 validated image filenames belonging to 10 classes.\n",
            "Found 3222 validated image filenames belonging to 10 classes.\n",
            "Trainiere nur letzte Layer...\n",
            "Trainiere alle Layer...\n",
            "------------\n",
            "Trainiere Partition 16/30\n",
            "Found 300 validated image filenames belonging to 10 classes.\n",
            "Found 80 validated image filenames belonging to 10 classes.\n",
            "Found 3102 validated image filenames belonging to 10 classes.\n",
            "Trainiere nur letzte Layer...\n",
            "Trainiere alle Layer...\n",
            "------------\n",
            "Trainiere Partition 17/30\n",
            "Found 180 validated image filenames belonging to 10 classes.\n",
            "Found 50 validated image filenames belonging to 10 classes.\n",
            "Found 3252 validated image filenames belonging to 10 classes.\n",
            "Trainiere nur letzte Layer...\n",
            "Trainiere alle Layer...\n",
            "------------\n",
            "Trainiere Partition 18/30\n",
            "Found 640 validated image filenames belonging to 10 classes.\n",
            "Found 160 validated image filenames belonging to 10 classes.\n",
            "Found 2682 validated image filenames belonging to 10 classes.\n",
            "Trainiere nur letzte Layer...\n",
            "Trainiere alle Layer...\n",
            "------------\n",
            "Trainiere Partition 19/30\n",
            "Found 230 validated image filenames belonging to 10 classes.\n",
            "Found 60 validated image filenames belonging to 10 classes.\n",
            "Found 3192 validated image filenames belonging to 10 classes.\n",
            "Trainiere nur letzte Layer...\n",
            "Trainiere alle Layer...\n",
            "------------\n",
            "Trainiere Partition 20/30\n",
            "Found 250 validated image filenames belonging to 10 classes.\n",
            "Found 60 validated image filenames belonging to 10 classes.\n",
            "Found 3172 validated image filenames belonging to 10 classes.\n",
            "Trainiere nur letzte Layer...\n",
            "Trainiere alle Layer...\n",
            "------------\n",
            "Trainiere Partition 21/30\n",
            "Found 700 validated image filenames belonging to 10 classes.\n",
            "Found 170 validated image filenames belonging to 10 classes.\n",
            "Found 2612 validated image filenames belonging to 10 classes.\n",
            "Trainiere nur letzte Layer...\n",
            "Trainiere alle Layer...\n",
            "------------\n",
            "Trainiere Partition 22/30\n",
            "Found 570 validated image filenames belonging to 10 classes.\n",
            "Found 140 validated image filenames belonging to 10 classes.\n",
            "Found 2772 validated image filenames belonging to 10 classes.\n",
            "Trainiere nur letzte Layer...\n",
            "Trainiere alle Layer...\n",
            "------------\n",
            "Trainiere Partition 23/30\n",
            "Found 340 validated image filenames belonging to 10 classes.\n",
            "Found 80 validated image filenames belonging to 10 classes.\n",
            "Found 3062 validated image filenames belonging to 10 classes.\n",
            "Trainiere nur letzte Layer...\n",
            "Trainiere alle Layer...\n",
            "------------\n",
            "Trainiere Partition 24/30\n",
            "Found 760 validated image filenames belonging to 10 classes.\n",
            "Found 190 validated image filenames belonging to 10 classes.\n",
            "Found 2532 validated image filenames belonging to 10 classes.\n",
            "Trainiere nur letzte Layer...\n",
            "Trainiere alle Layer...\n",
            "------------\n",
            "Trainiere Partition 25/30\n",
            "Found 540 validated image filenames belonging to 10 classes.\n",
            "Found 140 validated image filenames belonging to 10 classes.\n",
            "Found 2802 validated image filenames belonging to 10 classes.\n",
            "Trainiere nur letzte Layer...\n",
            "Trainiere alle Layer...\n",
            "------------\n",
            "Trainiere Partition 26/30\n",
            "Found 800 validated image filenames belonging to 10 classes.\n",
            "Found 200 validated image filenames belonging to 10 classes.\n",
            "Found 2482 validated image filenames belonging to 10 classes.\n",
            "Trainiere nur letzte Layer...\n",
            "Trainiere alle Layer...\n",
            "------------\n",
            "Trainiere Partition 27/30\n",
            "Found 430 validated image filenames belonging to 10 classes.\n",
            "Found 110 validated image filenames belonging to 10 classes.\n",
            "Found 2942 validated image filenames belonging to 10 classes.\n",
            "Trainiere nur letzte Layer...\n",
            "Trainiere alle Layer...\n",
            "------------\n",
            "Trainiere Partition 28/30\n",
            "Found 550 validated image filenames belonging to 10 classes.\n",
            "Found 140 validated image filenames belonging to 10 classes.\n",
            "Found 2792 validated image filenames belonging to 10 classes.\n",
            "Trainiere nur letzte Layer...\n",
            "Trainiere alle Layer...\n",
            "------------\n",
            "Trainiere Partition 29/30\n",
            "Found 750 validated image filenames belonging to 10 classes.\n",
            "Found 190 validated image filenames belonging to 10 classes.\n",
            "Found 2542 validated image filenames belonging to 10 classes.\n",
            "Trainiere nur letzte Layer...\n",
            "Trainiere alle Layer...\n",
            "------------\n",
            "Trainiere Partition 30/30\n",
            "Found 420 validated image filenames belonging to 10 classes.\n",
            "Found 100 validated image filenames belonging to 10 classes.\n",
            "Found 2962 validated image filenames belonging to 10 classes.\n",
            "Trainiere nur letzte Layer...\n",
            "Trainiere alle Layer...\n",
            "------------\n"
          ],
          "name": "stdout"
        }
      ]
    },
    {
      "cell_type": "markdown",
      "metadata": {
        "id": "p-cQTGLSEGPI"
      },
      "source": [
        "# Das Training abschließend analysieren"
      ]
    },
    {
      "cell_type": "markdown",
      "metadata": {
        "id": "mXgPAvHCztWE"
      },
      "source": [
        "An dieser Stelle wird die mittlere Genauigkeit pro Bin berechnet und geplottet.\r\n",
        "Dies dient der Erzeugnung der blauen Kurve in Abbildung 5 der Afzal et al. Veröffentlichung"
      ]
    },
    {
      "cell_type": "code",
      "metadata": {
        "id": "pdvoDgito1Zo",
        "colab": {
          "base_uri": "https://localhost:8080/",
          "height": 297
        },
        "outputId": "f15883ff-c732-486e-edc0-3c0c4a70c36c"
      },
      "source": [
        "import matplotlib.pyplot as plt\r\n",
        "import seaborn as sns\r\n",
        "\r\n",
        "accuracy_per_bin = []\r\n",
        "for i in range(number_of_bins):\r\n",
        "  if num_partitions_per_bin[i] == 0:\r\n",
        "    accuracy_per_bin.append(np.NaN)\r\n",
        "  else:\r\n",
        "    accuracy_per_bin.append(summed_accuracies_of_binned_partions[i] /\r\n",
        "                            num_partitions_per_bin[i] * 100)\r\n",
        "\r\n",
        "plt.plot([20 + i * 10 for i in range(number_of_bins)],\r\n",
        "          accuracy_per_bin)\r\n",
        "plt.xlabel('Anzahl der Bilder pro Klasse')\r\n",
        "plt.ylabel('Average Accuracy (%)')\r\n",
        "plt.show()\r\n",
        "plt.savefig('avg_val_acc_per_bin_size.png')"
      ],
      "execution_count": 20,
      "outputs": [
        {
          "output_type": "display_data",
          "data": {
            "image/png": "[encoded data removed]",
            "text/plain": [
              "<Figure size 432x288 with 1 Axes>"
            ]
          },
          "metadata": {
            "tags": [],
            "needs_background": "light"
          }
        },
        {
          "output_type": "display_data",
          "data": {
            "text/plain": [
              "<Figure size 432x288 with 0 Axes>"
            ]
          },
          "metadata": {
            "tags": []
          }
        }
      ]
    },
    {
      "cell_type": "markdown",
      "metadata": {
        "id": "wqoEu-rhz8Jk"
      },
      "source": [
        "Als letztes wird die *Confusion Matrix* für das Modell mit dem größten Trainingsdatensatz erstellt."
      ]
    },
    {
      "cell_type": "code",
      "metadata": {
        "id": "3wYRhrJ1VSHI",
        "colab": {
          "base_uri": "https://localhost:8080/",
          "height": 709
        },
        "outputId": "93476821-6f0b-4d01-eb69-e062ff94fb63"
      },
      "source": [
        "def plot_confusion_matrix_for_max_train_imgs(model,\r\n",
        "                                             index_of_biggest_partition: int\r\n",
        "                                             ):\r\n",
        "\r\n",
        "  _, _, test_generator = \\\r\n",
        "    create_data_generators(partitions[index_of_biggest_partition][0],\r\n",
        "                           partitions[index_of_biggest_partition][1],\r\n",
        "                           partitions[index_of_biggest_partition][2])\r\n",
        "\r\n",
        "  test_generator.reset()\r\n",
        "\r\n",
        "  # Klassifizierung vornehmen\r\n",
        "  print('Klassifiziere die Testdaten...')\r\n",
        "  y_pred = model.predict(test_generator, verbose=1)\r\n",
        "  \r\n",
        "  test_df = partitions[index_of_biggest_partition][2]\r\n",
        "  y_true = test_df['Label']\r\n",
        "  # String Bezeichner in die numerischen Label umwandeln\r\n",
        "  y_true_numeric = [test_generator.class_indices[i] for i in y_true.to_numpy()]\r\n",
        "  \r\n",
        "  # Confusion Matrix berechnen und normieren\r\n",
        "  con_mat = confusion_matrix(labels=y_true_numeric,\r\n",
        "                             predictions=y_pred.argmax(axis=1)).numpy()\r\n",
        "\r\n",
        "  con_mat_norm = np.around(con_mat.astype('float') / \r\n",
        "                           con_mat.sum(axis=1)[:, np.newaxis], decimals=2)\r\n",
        "  con_mat_df = pd.DataFrame(con_mat_norm,\r\n",
        "                            index = labels, \r\n",
        "                            columns = labels)\r\n",
        "  figure = plt.figure(figsize=(8, 8))\r\n",
        "\r\n",
        "  sns.heatmap(con_mat_df, annot=True,cmap=plt.cm.Blues)\r\n",
        "  plt.tight_layout()\r\n",
        "  plt.ylabel('Tatsächliches Label')\r\n",
        "  plt.xlabel('Vorhergesagtes Label')\r\n",
        "  plt.show()\r\n",
        "  plt.savefig('confusion_matrix.png')\r\n",
        "\r\n",
        "# Confusion Matrix plotten\r\n",
        "plot_confusion_matrix_for_max_train_imgs(model_with_max_training,\r\n",
        "                                         biggest_partition_index)"
      ],
      "execution_count": 21,
      "outputs": [
        {
          "output_type": "stream",
          "text": [
            "Found 800 validated image filenames belonging to 10 classes.\n",
            "Found 200 validated image filenames belonging to 10 classes.\n",
            "Found 2482 validated image filenames belonging to 10 classes.\n",
            "Klassifiziere die Testdaten...\n",
            "249/249 [==============================] - 67s 268ms/step\n"
          ],
          "name": "stdout"
        },
        {
          "output_type": "display_data",
          "data": {
            "image/png": "[encoded data removed]",
            "text/plain": [
              "<Figure size 576x576 with 2 Axes>"
            ]
          },
          "metadata": {
            "tags": [],
            "needs_background": "light"
          }
        },
        {
          "output_type": "display_data",
          "data": {
            "text/plain": [
              "<Figure size 432x288 with 0 Axes>"
            ]
          },
          "metadata": {
            "tags": []
          }
        }
      ]
    }
  ]
}